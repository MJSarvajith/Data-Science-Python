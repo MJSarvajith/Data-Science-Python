{
  "nbformat": 4,
  "nbformat_minor": 0,
  "metadata": {
    "colab": {
      "provenance": [],
      "authorship_tag": "ABX9TyP/s1AEujtdhVqQGsgKZ1b9",
      "include_colab_link": true
    },
    "kernelspec": {
      "name": "python3",
      "display_name": "Python 3"
    },
    "language_info": {
      "name": "python"
    }
  },
  "cells": [
    {
      "cell_type": "markdown",
      "metadata": {
        "id": "view-in-github",
        "colab_type": "text"
      },
      "source": [
        "<a href=\"https://colab.research.google.com/github/MJSarvajith/Data-Science-Python/blob/main/AIandML2.ipynb\" target=\"_parent\"><img src=\"https://colab.research.google.com/assets/colab-badge.svg\" alt=\"Open In Colab\"/></a>"
      ]
    },
    {
      "cell_type": "markdown",
      "source": [
        "**Context**\n",
        "\n",
        "The dataset includes 1,303 laptop configurations and 12 attributes associated with it that describe the brand name, form factor, display attributes (resolution, aspect ratio, etc.), CPU/GPU attributes, memory configuration, operating system, weight, and price (in euros). Of the columns, only two columns contain only numeric values (\"Inches\", \"Price_euros\"), while many of the numeric-like appearances are actually stored as text; for example, \"Ram\" is \"8GB\", \"Weight\" is \"1.37kg\", and \"ScreenResolution\" is \"1920x1080\"."
      ],
      "metadata": {
        "id": "-TFVss10r7Ek"
      }
    },
    {
      "cell_type": "markdown",
      "source": [
        "**Dataset**\n",
        "\n",
        "https://www.kaggle.com/datasets/ehtishamsadiq/uncleaned-laptop-price-dataset"
      ],
      "metadata": {
        "id": "2QAF6FeisPPe"
      }
    },
    {
      "cell_type": "markdown",
      "source": [
        "**Import Libraries**"
      ],
      "metadata": {
        "id": "05Ao2v02sul4"
      }
    },
    {
      "cell_type": "code",
      "source": [
        "# Python Libraries\n",
        "import pandas as pd\n",
        "import numpy as np\n",
        "import matplotlib.pyplot as plt\n",
        "import seaborn as sns\n",
        "from scipy.stats import zscore\n",
        "\n",
        "# Machine Learning Libraries\n",
        "from sklearn.model_selection import train_test_split\n",
        "from sklearn.preprocessing import StandardScaler\n",
        "from sklearn.metrics import confusion_matrix, ConfusionMatrixDisplay, classification_report\n",
        "from sklearn.metrics import mean_absolute_error, mean_squared_error, r2_score\n",
        "\n",
        "import tensorflow as tf\n",
        "from tensorflow import keras\n",
        "from tensorflow.keras.models import Sequential\n",
        "from tensorflow.keras.layers import Dense\n",
        "from tensorflow.keras.optimizers import Adam"
      ],
      "metadata": {
        "id": "7cUGGEDmso4c"
      },
      "execution_count": 276,
      "outputs": []
    },
    {
      "cell_type": "code",
      "source": [
        "df = pd.read_csv(\"LaptopData.csv\")"
      ],
      "metadata": {
        "id": "g6hNDQ9nvkjV"
      },
      "execution_count": 277,
      "outputs": []
    },
    {
      "cell_type": "markdown",
      "source": [
        "**Preview of Dataset**"
      ],
      "metadata": {
        "id": "4bUfaB9du7hq"
      }
    },
    {
      "cell_type": "code",
      "source": [
        "df.head(10)"
      ],
      "metadata": {
        "colab": {
          "base_uri": "https://localhost:8080/",
          "height": 779
        },
        "id": "jPTkNfR5wrQk",
        "outputId": "69273db7-2aa5-46c4-87e2-69bf52eb0380"
      },
      "execution_count": 278,
      "outputs": [
        {
          "output_type": "execute_result",
          "data": {
            "text/plain": [
              "   Unnamed: 0 Company   TypeName Inches                    ScreenResolution  \\\n",
              "0         0.0   Apple  Ultrabook   13.3  IPS Panel Retina Display 2560x1600   \n",
              "1         1.0   Apple  Ultrabook   13.3                            1440x900   \n",
              "2         2.0      HP   Notebook   15.6                   Full HD 1920x1080   \n",
              "3         3.0   Apple  Ultrabook   15.4  IPS Panel Retina Display 2880x1800   \n",
              "4         4.0   Apple  Ultrabook   13.3  IPS Panel Retina Display 2560x1600   \n",
              "5         5.0    Acer   Notebook   15.6                            1366x768   \n",
              "6         6.0   Apple  Ultrabook   15.4  IPS Panel Retina Display 2880x1800   \n",
              "7         7.0   Apple  Ultrabook   13.3                            1440x900   \n",
              "8         8.0    Asus  Ultrabook     14                   Full HD 1920x1080   \n",
              "9         9.0    Acer  Ultrabook     14         IPS Panel Full HD 1920x1080   \n",
              "\n",
              "                          Cpu   Ram               Memory  \\\n",
              "0        Intel Core i5 2.3GHz   8GB            128GB SSD   \n",
              "1        Intel Core i5 1.8GHz   8GB  128GB Flash Storage   \n",
              "2  Intel Core i5 7200U 2.5GHz   8GB            256GB SSD   \n",
              "3        Intel Core i7 2.7GHz  16GB            512GB SSD   \n",
              "4        Intel Core i5 3.1GHz   8GB            256GB SSD   \n",
              "5     AMD A9-Series 9420 3GHz   4GB            500GB HDD   \n",
              "6        Intel Core i7 2.2GHz  16GB  256GB Flash Storage   \n",
              "7        Intel Core i5 1.8GHz   8GB  256GB Flash Storage   \n",
              "8  Intel Core i7 8550U 1.8GHz  16GB            512GB SSD   \n",
              "9  Intel Core i5 8250U 1.6GHz   8GB            256GB SSD   \n",
              "\n",
              "                            Gpu       OpSys  Weight        Price  \n",
              "0  Intel Iris Plus Graphics 640       macOS  1.37kg   71378.6832  \n",
              "1        Intel HD Graphics 6000       macOS  1.34kg   47895.5232  \n",
              "2         Intel HD Graphics 620       No OS  1.86kg   30636.0000  \n",
              "3            AMD Radeon Pro 455       macOS  1.83kg  135195.3360  \n",
              "4  Intel Iris Plus Graphics 650       macOS  1.37kg   96095.8080  \n",
              "5                 AMD Radeon R5  Windows 10   2.1kg   21312.0000  \n",
              "6       Intel Iris Pro Graphics    Mac OS X  2.04kg  114017.6016  \n",
              "7        Intel HD Graphics 6000       macOS  1.34kg   61735.5360  \n",
              "8          Nvidia GeForce MX150  Windows 10   1.3kg   79653.6000  \n",
              "9        Intel UHD Graphics 620  Windows 10   1.6kg   41025.6000  "
            ],
            "text/html": [
              "\n",
              "  <div id=\"df-a6d71aec-a46c-4318-886a-1334609370eb\" class=\"colab-df-container\">\n",
              "    <div>\n",
              "<style scoped>\n",
              "    .dataframe tbody tr th:only-of-type {\n",
              "        vertical-align: middle;\n",
              "    }\n",
              "\n",
              "    .dataframe tbody tr th {\n",
              "        vertical-align: top;\n",
              "    }\n",
              "\n",
              "    .dataframe thead th {\n",
              "        text-align: right;\n",
              "    }\n",
              "</style>\n",
              "<table border=\"1\" class=\"dataframe\">\n",
              "  <thead>\n",
              "    <tr style=\"text-align: right;\">\n",
              "      <th></th>\n",
              "      <th>Unnamed: 0</th>\n",
              "      <th>Company</th>\n",
              "      <th>TypeName</th>\n",
              "      <th>Inches</th>\n",
              "      <th>ScreenResolution</th>\n",
              "      <th>Cpu</th>\n",
              "      <th>Ram</th>\n",
              "      <th>Memory</th>\n",
              "      <th>Gpu</th>\n",
              "      <th>OpSys</th>\n",
              "      <th>Weight</th>\n",
              "      <th>Price</th>\n",
              "    </tr>\n",
              "  </thead>\n",
              "  <tbody>\n",
              "    <tr>\n",
              "      <th>0</th>\n",
              "      <td>0.0</td>\n",
              "      <td>Apple</td>\n",
              "      <td>Ultrabook</td>\n",
              "      <td>13.3</td>\n",
              "      <td>IPS Panel Retina Display 2560x1600</td>\n",
              "      <td>Intel Core i5 2.3GHz</td>\n",
              "      <td>8GB</td>\n",
              "      <td>128GB SSD</td>\n",
              "      <td>Intel Iris Plus Graphics 640</td>\n",
              "      <td>macOS</td>\n",
              "      <td>1.37kg</td>\n",
              "      <td>71378.6832</td>\n",
              "    </tr>\n",
              "    <tr>\n",
              "      <th>1</th>\n",
              "      <td>1.0</td>\n",
              "      <td>Apple</td>\n",
              "      <td>Ultrabook</td>\n",
              "      <td>13.3</td>\n",
              "      <td>1440x900</td>\n",
              "      <td>Intel Core i5 1.8GHz</td>\n",
              "      <td>8GB</td>\n",
              "      <td>128GB Flash Storage</td>\n",
              "      <td>Intel HD Graphics 6000</td>\n",
              "      <td>macOS</td>\n",
              "      <td>1.34kg</td>\n",
              "      <td>47895.5232</td>\n",
              "    </tr>\n",
              "    <tr>\n",
              "      <th>2</th>\n",
              "      <td>2.0</td>\n",
              "      <td>HP</td>\n",
              "      <td>Notebook</td>\n",
              "      <td>15.6</td>\n",
              "      <td>Full HD 1920x1080</td>\n",
              "      <td>Intel Core i5 7200U 2.5GHz</td>\n",
              "      <td>8GB</td>\n",
              "      <td>256GB SSD</td>\n",
              "      <td>Intel HD Graphics 620</td>\n",
              "      <td>No OS</td>\n",
              "      <td>1.86kg</td>\n",
              "      <td>30636.0000</td>\n",
              "    </tr>\n",
              "    <tr>\n",
              "      <th>3</th>\n",
              "      <td>3.0</td>\n",
              "      <td>Apple</td>\n",
              "      <td>Ultrabook</td>\n",
              "      <td>15.4</td>\n",
              "      <td>IPS Panel Retina Display 2880x1800</td>\n",
              "      <td>Intel Core i7 2.7GHz</td>\n",
              "      <td>16GB</td>\n",
              "      <td>512GB SSD</td>\n",
              "      <td>AMD Radeon Pro 455</td>\n",
              "      <td>macOS</td>\n",
              "      <td>1.83kg</td>\n",
              "      <td>135195.3360</td>\n",
              "    </tr>\n",
              "    <tr>\n",
              "      <th>4</th>\n",
              "      <td>4.0</td>\n",
              "      <td>Apple</td>\n",
              "      <td>Ultrabook</td>\n",
              "      <td>13.3</td>\n",
              "      <td>IPS Panel Retina Display 2560x1600</td>\n",
              "      <td>Intel Core i5 3.1GHz</td>\n",
              "      <td>8GB</td>\n",
              "      <td>256GB SSD</td>\n",
              "      <td>Intel Iris Plus Graphics 650</td>\n",
              "      <td>macOS</td>\n",
              "      <td>1.37kg</td>\n",
              "      <td>96095.8080</td>\n",
              "    </tr>\n",
              "    <tr>\n",
              "      <th>5</th>\n",
              "      <td>5.0</td>\n",
              "      <td>Acer</td>\n",
              "      <td>Notebook</td>\n",
              "      <td>15.6</td>\n",
              "      <td>1366x768</td>\n",
              "      <td>AMD A9-Series 9420 3GHz</td>\n",
              "      <td>4GB</td>\n",
              "      <td>500GB HDD</td>\n",
              "      <td>AMD Radeon R5</td>\n",
              "      <td>Windows 10</td>\n",
              "      <td>2.1kg</td>\n",
              "      <td>21312.0000</td>\n",
              "    </tr>\n",
              "    <tr>\n",
              "      <th>6</th>\n",
              "      <td>6.0</td>\n",
              "      <td>Apple</td>\n",
              "      <td>Ultrabook</td>\n",
              "      <td>15.4</td>\n",
              "      <td>IPS Panel Retina Display 2880x1800</td>\n",
              "      <td>Intel Core i7 2.2GHz</td>\n",
              "      <td>16GB</td>\n",
              "      <td>256GB Flash Storage</td>\n",
              "      <td>Intel Iris Pro Graphics</td>\n",
              "      <td>Mac OS X</td>\n",
              "      <td>2.04kg</td>\n",
              "      <td>114017.6016</td>\n",
              "    </tr>\n",
              "    <tr>\n",
              "      <th>7</th>\n",
              "      <td>7.0</td>\n",
              "      <td>Apple</td>\n",
              "      <td>Ultrabook</td>\n",
              "      <td>13.3</td>\n",
              "      <td>1440x900</td>\n",
              "      <td>Intel Core i5 1.8GHz</td>\n",
              "      <td>8GB</td>\n",
              "      <td>256GB Flash Storage</td>\n",
              "      <td>Intel HD Graphics 6000</td>\n",
              "      <td>macOS</td>\n",
              "      <td>1.34kg</td>\n",
              "      <td>61735.5360</td>\n",
              "    </tr>\n",
              "    <tr>\n",
              "      <th>8</th>\n",
              "      <td>8.0</td>\n",
              "      <td>Asus</td>\n",
              "      <td>Ultrabook</td>\n",
              "      <td>14</td>\n",
              "      <td>Full HD 1920x1080</td>\n",
              "      <td>Intel Core i7 8550U 1.8GHz</td>\n",
              "      <td>16GB</td>\n",
              "      <td>512GB SSD</td>\n",
              "      <td>Nvidia GeForce MX150</td>\n",
              "      <td>Windows 10</td>\n",
              "      <td>1.3kg</td>\n",
              "      <td>79653.6000</td>\n",
              "    </tr>\n",
              "    <tr>\n",
              "      <th>9</th>\n",
              "      <td>9.0</td>\n",
              "      <td>Acer</td>\n",
              "      <td>Ultrabook</td>\n",
              "      <td>14</td>\n",
              "      <td>IPS Panel Full HD 1920x1080</td>\n",
              "      <td>Intel Core i5 8250U 1.6GHz</td>\n",
              "      <td>8GB</td>\n",
              "      <td>256GB SSD</td>\n",
              "      <td>Intel UHD Graphics 620</td>\n",
              "      <td>Windows 10</td>\n",
              "      <td>1.6kg</td>\n",
              "      <td>41025.6000</td>\n",
              "    </tr>\n",
              "  </tbody>\n",
              "</table>\n",
              "</div>\n",
              "    <div class=\"colab-df-buttons\">\n",
              "\n",
              "  <div class=\"colab-df-container\">\n",
              "    <button class=\"colab-df-convert\" onclick=\"convertToInteractive('df-a6d71aec-a46c-4318-886a-1334609370eb')\"\n",
              "            title=\"Convert this dataframe to an interactive table.\"\n",
              "            style=\"display:none;\">\n",
              "\n",
              "  <svg xmlns=\"http://www.w3.org/2000/svg\" height=\"24px\" viewBox=\"0 -960 960 960\">\n",
              "    <path d=\"M120-120v-720h720v720H120Zm60-500h600v-160H180v160Zm220 220h160v-160H400v160Zm0 220h160v-160H400v160ZM180-400h160v-160H180v160Zm440 0h160v-160H620v160ZM180-180h160v-160H180v160Zm440 0h160v-160H620v160Z\"/>\n",
              "  </svg>\n",
              "    </button>\n",
              "\n",
              "  <style>\n",
              "    .colab-df-container {\n",
              "      display:flex;\n",
              "      gap: 12px;\n",
              "    }\n",
              "\n",
              "    .colab-df-convert {\n",
              "      background-color: #E8F0FE;\n",
              "      border: none;\n",
              "      border-radius: 50%;\n",
              "      cursor: pointer;\n",
              "      display: none;\n",
              "      fill: #1967D2;\n",
              "      height: 32px;\n",
              "      padding: 0 0 0 0;\n",
              "      width: 32px;\n",
              "    }\n",
              "\n",
              "    .colab-df-convert:hover {\n",
              "      background-color: #E2EBFA;\n",
              "      box-shadow: 0px 1px 2px rgba(60, 64, 67, 0.3), 0px 1px 3px 1px rgba(60, 64, 67, 0.15);\n",
              "      fill: #174EA6;\n",
              "    }\n",
              "\n",
              "    .colab-df-buttons div {\n",
              "      margin-bottom: 4px;\n",
              "    }\n",
              "\n",
              "    [theme=dark] .colab-df-convert {\n",
              "      background-color: #3B4455;\n",
              "      fill: #D2E3FC;\n",
              "    }\n",
              "\n",
              "    [theme=dark] .colab-df-convert:hover {\n",
              "      background-color: #434B5C;\n",
              "      box-shadow: 0px 1px 3px 1px rgba(0, 0, 0, 0.15);\n",
              "      filter: drop-shadow(0px 1px 2px rgba(0, 0, 0, 0.3));\n",
              "      fill: #FFFFFF;\n",
              "    }\n",
              "  </style>\n",
              "\n",
              "    <script>\n",
              "      const buttonEl =\n",
              "        document.querySelector('#df-a6d71aec-a46c-4318-886a-1334609370eb button.colab-df-convert');\n",
              "      buttonEl.style.display =\n",
              "        google.colab.kernel.accessAllowed ? 'block' : 'none';\n",
              "\n",
              "      async function convertToInteractive(key) {\n",
              "        const element = document.querySelector('#df-a6d71aec-a46c-4318-886a-1334609370eb');\n",
              "        const dataTable =\n",
              "          await google.colab.kernel.invokeFunction('convertToInteractive',\n",
              "                                                    [key], {});\n",
              "        if (!dataTable) return;\n",
              "\n",
              "        const docLinkHtml = 'Like what you see? Visit the ' +\n",
              "          '<a target=\"_blank\" href=https://colab.research.google.com/notebooks/data_table.ipynb>data table notebook</a>'\n",
              "          + ' to learn more about interactive tables.';\n",
              "        element.innerHTML = '';\n",
              "        dataTable['output_type'] = 'display_data';\n",
              "        await google.colab.output.renderOutput(dataTable, element);\n",
              "        const docLink = document.createElement('div');\n",
              "        docLink.innerHTML = docLinkHtml;\n",
              "        element.appendChild(docLink);\n",
              "      }\n",
              "    </script>\n",
              "  </div>\n",
              "\n",
              "\n",
              "    <div id=\"df-cfdafc8c-bb5b-469c-806f-a98fd93e19b8\">\n",
              "      <button class=\"colab-df-quickchart\" onclick=\"quickchart('df-cfdafc8c-bb5b-469c-806f-a98fd93e19b8')\"\n",
              "                title=\"Suggest charts\"\n",
              "                style=\"display:none;\">\n",
              "\n",
              "<svg xmlns=\"http://www.w3.org/2000/svg\" height=\"24px\"viewBox=\"0 0 24 24\"\n",
              "     width=\"24px\">\n",
              "    <g>\n",
              "        <path d=\"M19 3H5c-1.1 0-2 .9-2 2v14c0 1.1.9 2 2 2h14c1.1 0 2-.9 2-2V5c0-1.1-.9-2-2-2zM9 17H7v-7h2v7zm4 0h-2V7h2v10zm4 0h-2v-4h2v4z\"/>\n",
              "    </g>\n",
              "</svg>\n",
              "      </button>\n",
              "\n",
              "<style>\n",
              "  .colab-df-quickchart {\n",
              "      --bg-color: #E8F0FE;\n",
              "      --fill-color: #1967D2;\n",
              "      --hover-bg-color: #E2EBFA;\n",
              "      --hover-fill-color: #174EA6;\n",
              "      --disabled-fill-color: #AAA;\n",
              "      --disabled-bg-color: #DDD;\n",
              "  }\n",
              "\n",
              "  [theme=dark] .colab-df-quickchart {\n",
              "      --bg-color: #3B4455;\n",
              "      --fill-color: #D2E3FC;\n",
              "      --hover-bg-color: #434B5C;\n",
              "      --hover-fill-color: #FFFFFF;\n",
              "      --disabled-bg-color: #3B4455;\n",
              "      --disabled-fill-color: #666;\n",
              "  }\n",
              "\n",
              "  .colab-df-quickchart {\n",
              "    background-color: var(--bg-color);\n",
              "    border: none;\n",
              "    border-radius: 50%;\n",
              "    cursor: pointer;\n",
              "    display: none;\n",
              "    fill: var(--fill-color);\n",
              "    height: 32px;\n",
              "    padding: 0;\n",
              "    width: 32px;\n",
              "  }\n",
              "\n",
              "  .colab-df-quickchart:hover {\n",
              "    background-color: var(--hover-bg-color);\n",
              "    box-shadow: 0 1px 2px rgba(60, 64, 67, 0.3), 0 1px 3px 1px rgba(60, 64, 67, 0.15);\n",
              "    fill: var(--button-hover-fill-color);\n",
              "  }\n",
              "\n",
              "  .colab-df-quickchart-complete:disabled,\n",
              "  .colab-df-quickchart-complete:disabled:hover {\n",
              "    background-color: var(--disabled-bg-color);\n",
              "    fill: var(--disabled-fill-color);\n",
              "    box-shadow: none;\n",
              "  }\n",
              "\n",
              "  .colab-df-spinner {\n",
              "    border: 2px solid var(--fill-color);\n",
              "    border-color: transparent;\n",
              "    border-bottom-color: var(--fill-color);\n",
              "    animation:\n",
              "      spin 1s steps(1) infinite;\n",
              "  }\n",
              "\n",
              "  @keyframes spin {\n",
              "    0% {\n",
              "      border-color: transparent;\n",
              "      border-bottom-color: var(--fill-color);\n",
              "      border-left-color: var(--fill-color);\n",
              "    }\n",
              "    20% {\n",
              "      border-color: transparent;\n",
              "      border-left-color: var(--fill-color);\n",
              "      border-top-color: var(--fill-color);\n",
              "    }\n",
              "    30% {\n",
              "      border-color: transparent;\n",
              "      border-left-color: var(--fill-color);\n",
              "      border-top-color: var(--fill-color);\n",
              "      border-right-color: var(--fill-color);\n",
              "    }\n",
              "    40% {\n",
              "      border-color: transparent;\n",
              "      border-right-color: var(--fill-color);\n",
              "      border-top-color: var(--fill-color);\n",
              "    }\n",
              "    60% {\n",
              "      border-color: transparent;\n",
              "      border-right-color: var(--fill-color);\n",
              "    }\n",
              "    80% {\n",
              "      border-color: transparent;\n",
              "      border-right-color: var(--fill-color);\n",
              "      border-bottom-color: var(--fill-color);\n",
              "    }\n",
              "    90% {\n",
              "      border-color: transparent;\n",
              "      border-bottom-color: var(--fill-color);\n",
              "    }\n",
              "  }\n",
              "</style>\n",
              "\n",
              "      <script>\n",
              "        async function quickchart(key) {\n",
              "          const quickchartButtonEl =\n",
              "            document.querySelector('#' + key + ' button');\n",
              "          quickchartButtonEl.disabled = true;  // To prevent multiple clicks.\n",
              "          quickchartButtonEl.classList.add('colab-df-spinner');\n",
              "          try {\n",
              "            const charts = await google.colab.kernel.invokeFunction(\n",
              "                'suggestCharts', [key], {});\n",
              "          } catch (error) {\n",
              "            console.error('Error during call to suggestCharts:', error);\n",
              "          }\n",
              "          quickchartButtonEl.classList.remove('colab-df-spinner');\n",
              "          quickchartButtonEl.classList.add('colab-df-quickchart-complete');\n",
              "        }\n",
              "        (() => {\n",
              "          let quickchartButtonEl =\n",
              "            document.querySelector('#df-cfdafc8c-bb5b-469c-806f-a98fd93e19b8 button');\n",
              "          quickchartButtonEl.style.display =\n",
              "            google.colab.kernel.accessAllowed ? 'block' : 'none';\n",
              "        })();\n",
              "      </script>\n",
              "    </div>\n",
              "\n",
              "    </div>\n",
              "  </div>\n"
            ],
            "application/vnd.google.colaboratory.intrinsic+json": {
              "type": "dataframe",
              "variable_name": "df",
              "summary": "{\n  \"name\": \"df\",\n  \"rows\": 1303,\n  \"fields\": [\n    {\n      \"column\": \"Unnamed: 0\",\n      \"properties\": {\n        \"dtype\": \"number\",\n        \"std\": 376.4930271562809,\n        \"min\": 0.0,\n        \"max\": 1302.0,\n        \"num_unique_values\": 1273,\n        \"samples\": [\n          44.0,\n          1188.0,\n          133.0\n        ],\n        \"semantic_type\": \"\",\n        \"description\": \"\"\n      }\n    },\n    {\n      \"column\": \"Company\",\n      \"properties\": {\n        \"dtype\": \"category\",\n        \"num_unique_values\": 19,\n        \"samples\": [\n          \"Apple\",\n          \"Lenovo\",\n          \"Xiaomi\"\n        ],\n        \"semantic_type\": \"\",\n        \"description\": \"\"\n      }\n    },\n    {\n      \"column\": \"TypeName\",\n      \"properties\": {\n        \"dtype\": \"category\",\n        \"num_unique_values\": 6,\n        \"samples\": [\n          \"Ultrabook\",\n          \"Notebook\",\n          \"Netbook\"\n        ],\n        \"semantic_type\": \"\",\n        \"description\": \"\"\n      }\n    },\n    {\n      \"column\": \"Inches\",\n      \"properties\": {\n        \"dtype\": \"category\",\n        \"num_unique_values\": 25,\n        \"samples\": [\n          \"13\",\n          \"24\",\n          \"13.3\"\n        ],\n        \"semantic_type\": \"\",\n        \"description\": \"\"\n      }\n    },\n    {\n      \"column\": \"ScreenResolution\",\n      \"properties\": {\n        \"dtype\": \"category\",\n        \"num_unique_values\": 40,\n        \"samples\": [\n          \"Touchscreen 1366x768\",\n          \"1600x900\",\n          \"4K Ultra HD / Touchscreen 3840x2160\"\n        ],\n        \"semantic_type\": \"\",\n        \"description\": \"\"\n      }\n    },\n    {\n      \"column\": \"Cpu\",\n      \"properties\": {\n        \"dtype\": \"category\",\n        \"num_unique_values\": 118,\n        \"samples\": [\n          \"AMD A12-Series 9720P 2.7GHz\",\n          \"Intel Atom Z8350 1.92GHz\",\n          \"Intel Core i5 3.1GHz\"\n        ],\n        \"semantic_type\": \"\",\n        \"description\": \"\"\n      }\n    },\n    {\n      \"column\": \"Ram\",\n      \"properties\": {\n        \"dtype\": \"category\",\n        \"num_unique_values\": 10,\n        \"samples\": [\n          \"24GB\",\n          \"16GB\",\n          \"64GB\"\n        ],\n        \"semantic_type\": \"\",\n        \"description\": \"\"\n      }\n    },\n    {\n      \"column\": \"Memory\",\n      \"properties\": {\n        \"dtype\": \"category\",\n        \"num_unique_values\": 40,\n        \"samples\": [\n          \"256GB SSD +  500GB HDD\",\n          \"1.0TB Hybrid\",\n          \"64GB SSD\"\n        ],\n        \"semantic_type\": \"\",\n        \"description\": \"\"\n      }\n    },\n    {\n      \"column\": \"Gpu\",\n      \"properties\": {\n        \"dtype\": \"category\",\n        \"num_unique_values\": 110,\n        \"samples\": [\n          \"AMD Radeon R7\",\n          \"AMD Radeon Pro 555\",\n          \"Intel Iris Plus Graphics 650\"\n        ],\n        \"semantic_type\": \"\",\n        \"description\": \"\"\n      }\n    },\n    {\n      \"column\": \"OpSys\",\n      \"properties\": {\n        \"dtype\": \"category\",\n        \"num_unique_values\": 9,\n        \"samples\": [\n          \"Windows 7\",\n          \"No OS\",\n          \"Windows 10 S\"\n        ],\n        \"semantic_type\": \"\",\n        \"description\": \"\"\n      }\n    },\n    {\n      \"column\": \"Weight\",\n      \"properties\": {\n        \"dtype\": \"category\",\n        \"num_unique_values\": 189,\n        \"samples\": [\n          \"2.21kg\",\n          \"3.74kg\",\n          \"1.65kg\"\n        ],\n        \"semantic_type\": \"\",\n        \"description\": \"\"\n      }\n    },\n    {\n      \"column\": \"Price\",\n      \"properties\": {\n        \"dtype\": \"number\",\n        \"std\": 37332.251004569865,\n        \"min\": 9270.72,\n        \"max\": 324954.72,\n        \"num_unique_values\": 777,\n        \"samples\": [\n          68464.8,\n          71341.92,\n          77788.8\n        ],\n        \"semantic_type\": \"\",\n        \"description\": \"\"\n      }\n    }\n  ]\n}"
            }
          },
          "metadata": {},
          "execution_count": 278
        }
      ]
    },
    {
      "cell_type": "markdown",
      "source": [
        "**Dataset Description**\n",
        "\n",
        "1,303 records of laptops will contain 12 attributes: brand, model, screen size, resolution, CPU, RAM, storage, GPU, operating system, weight, and price in euros. Price in euros, or rather Price_euros, can be used to predict price and as a target variable in regression models. Other fields, such as RAM, Weight, and Memory, also have to be preprocessed into numeric values. The dataset is extremely useful for machine learning and market insight techniques allowing analyzing feature importance, such as CPU, GPU, RAM, and storage, for classifying products into budget, mid-range, and high-end price segments."
      ],
      "metadata": {
        "id": "U1ftYpB501mU"
      }
    },
    {
      "cell_type": "markdown",
      "source": [
        "**Information about Dataset**"
      ],
      "metadata": {
        "id": "gHkk88VPRM08"
      }
    },
    {
      "cell_type": "code",
      "source": [
        "print(\"Dataset Info:\")\n",
        "df.info()"
      ],
      "metadata": {
        "colab": {
          "base_uri": "https://localhost:8080/"
        },
        "id": "u2dq1qxQ1Iut",
        "outputId": "a5eedbab-ea19-4962-a8af-6cf34883b103"
      },
      "execution_count": 279,
      "outputs": [
        {
          "output_type": "stream",
          "name": "stdout",
          "text": [
            "Dataset Info:\n",
            "<class 'pandas.core.frame.DataFrame'>\n",
            "RangeIndex: 1303 entries, 0 to 1302\n",
            "Data columns (total 12 columns):\n",
            " #   Column            Non-Null Count  Dtype  \n",
            "---  ------            --------------  -----  \n",
            " 0   Unnamed: 0        1273 non-null   float64\n",
            " 1   Company           1273 non-null   object \n",
            " 2   TypeName          1273 non-null   object \n",
            " 3   Inches            1273 non-null   object \n",
            " 4   ScreenResolution  1273 non-null   object \n",
            " 5   Cpu               1273 non-null   object \n",
            " 6   Ram               1273 non-null   object \n",
            " 7   Memory            1273 non-null   object \n",
            " 8   Gpu               1273 non-null   object \n",
            " 9   OpSys             1273 non-null   object \n",
            " 10  Weight            1273 non-null   object \n",
            " 11  Price             1273 non-null   float64\n",
            "dtypes: float64(2), object(10)\n",
            "memory usage: 122.3+ KB\n"
          ]
        }
      ]
    },
    {
      "cell_type": "code",
      "source": [
        "print(df.columns)"
      ],
      "metadata": {
        "id": "uoywFNLumHf3",
        "colab": {
          "base_uri": "https://localhost:8080/"
        },
        "outputId": "b2b60f8c-b4b7-4419-af25-8da443d64169"
      },
      "execution_count": 280,
      "outputs": [
        {
          "output_type": "stream",
          "name": "stdout",
          "text": [
            "Index(['Unnamed: 0', 'Company', 'TypeName', 'Inches', 'ScreenResolution',\n",
            "       'Cpu', 'Ram', 'Memory', 'Gpu', 'OpSys', 'Weight', 'Price'],\n",
            "      dtype='object')\n"
          ]
        }
      ]
    },
    {
      "cell_type": "markdown",
      "source": [
        "**Check for missing values**"
      ],
      "metadata": {
        "id": "bQUaBMVyRQt9"
      }
    },
    {
      "cell_type": "code",
      "source": [
        "\n",
        "print(\"\\nMissing Values:\")\n",
        "print(df.isnull().sum())"
      ],
      "metadata": {
        "colab": {
          "base_uri": "https://localhost:8080/"
        },
        "id": "Fsqq59Nc2UA2",
        "outputId": "ff1b8a31-f5b9-4080-b206-22b4975bf53c"
      },
      "execution_count": 281,
      "outputs": [
        {
          "output_type": "stream",
          "name": "stdout",
          "text": [
            "\n",
            "Missing Values:\n",
            "Unnamed: 0          30\n",
            "Company             30\n",
            "TypeName            30\n",
            "Inches              30\n",
            "ScreenResolution    30\n",
            "Cpu                 30\n",
            "Ram                 30\n",
            "Memory              30\n",
            "Gpu                 30\n",
            "OpSys               30\n",
            "Weight              30\n",
            "Price               30\n",
            "dtype: int64\n"
          ]
        }
      ]
    },
    {
      "cell_type": "code",
      "source": [
        "print(df.Ram)"
      ],
      "metadata": {
        "colab": {
          "base_uri": "https://localhost:8080/"
        },
        "id": "Z4SJBMwK84za",
        "outputId": "99327085-018a-40e0-d1fe-58fe95f9cb20"
      },
      "execution_count": 282,
      "outputs": [
        {
          "output_type": "stream",
          "name": "stdout",
          "text": [
            "0        8GB\n",
            "1        8GB\n",
            "2        8GB\n",
            "3       16GB\n",
            "4        8GB\n",
            "        ... \n",
            "1298     4GB\n",
            "1299    16GB\n",
            "1300     2GB\n",
            "1301     6GB\n",
            "1302     4GB\n",
            "Name: Ram, Length: 1303, dtype: object\n"
          ]
        }
      ]
    },
    {
      "cell_type": "markdown",
      "source": [
        "**Summary statistics**"
      ],
      "metadata": {
        "id": "wMyITGV0RWE6"
      }
    },
    {
      "cell_type": "code",
      "source": [
        "\n",
        "print(\"\\nSummary Statistics:\")\n",
        "print(df.describe())"
      ],
      "metadata": {
        "colab": {
          "base_uri": "https://localhost:8080/"
        },
        "id": "IACBwuV22p6I",
        "outputId": "cd4f1165-c987-4b2c-8e85-9b2eb861cca2"
      },
      "execution_count": 283,
      "outputs": [
        {
          "output_type": "stream",
          "name": "stdout",
          "text": [
            "\n",
            "Summary Statistics:\n",
            "        Unnamed: 0          Price\n",
            "count  1273.000000    1273.000000\n",
            "mean    652.674784   59955.814073\n",
            "std     376.493027   37332.251005\n",
            "min       0.000000    9270.720000\n",
            "25%     327.000000   31914.720000\n",
            "50%     652.000000   52161.120000\n",
            "75%     980.000000   79333.387200\n",
            "max    1302.000000  324954.720000\n"
          ]
        }
      ]
    },
    {
      "cell_type": "code",
      "source": [
        "Q1 = df['Price'].quantile(0.25)\n",
        "Q3 = df['Price'].quantile(0.75)\n",
        "IQR = Q3 - Q1\n",
        "lower_bound = Q1 - 1.5 * IQR\n",
        "upper_bound = Q3 + 1.5 * IQR\n",
        "\n",
        "outliers = df[(df['Price'] < lower_bound) | (df['Price'] > upper_bound)]\n",
        "print(\"Number of outliers in Price:\", outliers.shape[0])"
      ],
      "metadata": {
        "colab": {
          "base_uri": "https://localhost:8080/"
        },
        "id": "Q_RindmZpWT3",
        "outputId": "2c0e4c0a-6d64-4fdf-8871-6067df997250"
      },
      "execution_count": 284,
      "outputs": [
        {
          "output_type": "stream",
          "name": "stdout",
          "text": [
            "Number of outliers in Price: 28\n"
          ]
        }
      ]
    },
    {
      "cell_type": "code",
      "source": [
        "import scipy.stats as stats\n",
        "\n",
        "df['z_score_price'] = stats.zscore(df['Price'])\n",
        "outliers = df[df['z_score_price'].abs() > 3]\n",
        "print(\"Outliers (Price):\", outliers.shape[0])"
      ],
      "metadata": {
        "colab": {
          "base_uri": "https://localhost:8080/"
        },
        "id": "DV_DHyTurKDl",
        "outputId": "47500850-12c9-4856-c15f-dbc528240abd"
      },
      "execution_count": 285,
      "outputs": [
        {
          "output_type": "stream",
          "name": "stdout",
          "text": [
            "Outliers (Price): 0\n"
          ]
        }
      ]
    },
    {
      "cell_type": "markdown",
      "source": [
        "**Before Cleaning**"
      ],
      "metadata": {
        "id": "Wny7eew-vX_g"
      }
    },
    {
      "cell_type": "code",
      "source": [
        "# Cleaning the 'Ram' column: remove \"GB\" and converting to numeric\n",
        "df['Ram'] = df['Ram'].astype(str).str.replace('GB', '', regex=False)\n",
        "df.dropna(subset=['Ram'], inplace=True)\n",
        "\n",
        "# Numeric Conversion\n",
        "df['Ram'] = pd.to_numeric(df['Ram'], errors='coerce')\n",
        "df.dropna(subset=['Ram'], inplace=True)\n",
        "\n",
        "plt.scatter(df['Ram'], df['Price'])\n",
        "plt.xlabel(\"RAM (GB)\")\n",
        "plt.ylabel(\"Price (Euros)\")\n",
        "plt.title(\"Price vs RAM\")\n",
        "plt.show()\n"
      ],
      "metadata": {
        "colab": {
          "base_uri": "https://localhost:8080/",
          "height": 472
        },
        "id": "tvgcgBnSraJT",
        "outputId": "cbec377b-6be8-40c8-e7e3-098c1619ab53"
      },
      "execution_count": 286,
      "outputs": [
        {
          "output_type": "display_data",
          "data": {
            "text/plain": [
              "<Figure size 640x480 with 1 Axes>"
            ],
            "image/png": "[encoded data removed]"
          },
          "metadata": {}
        }
      ]
    },
    {
      "cell_type": "markdown",
      "source": [
        "**After Cleaningg**"
      ],
      "metadata": {
        "id": "Ge9kMFf2vdPD"
      }
    },
    {
      "cell_type": "code",
      "source": [
        "# \\Cleaning the RAM column\n",
        "df['Ram'] = df['Ram'].astype(str).str.replace('GB', '', regex=False)\n",
        "df['Ram'] = pd.to_numeric(df['Ram'], errors='coerce')\n",
        "df = df.dropna(subset=['Ram', 'Price'])\n",
        "\n",
        "# Removal of Outliers using IQR for both Price and Ram\n",
        "def remove_outliers_iqr(data, column):\n",
        "    Q1 = data[column].quantile(0.25)\n",
        "    Q3 = data[column].quantile(0.75)\n",
        "    IQR = Q3 - Q1\n",
        "    lower_bound = Q1 - 1.5 * IQR\n",
        "    upper_bound = Q3 + 1.5 * IQR\n",
        "    return data[(data[column] >= lower_bound) & (data[column] <= upper_bound)]\n",
        "\n",
        "# Including the IQR method cleaning for Price and Ram\n",
        "df_clean = remove_outliers_iqr(df, 'Price')\n",
        "df_clean = remove_outliers_iqr(df_clean, 'Ram')\n",
        "\n",
        "# Illustrating Scatterplot After Cleaning\n",
        "plt.figure(figsize=(6,4))\n",
        "plt.scatter(df_clean['Ram'], df_clean['Price'], alpha=0.6, color=\"green\")\n",
        "plt.xlabel(\"RAM (GB)\")\n",
        "plt.ylabel(\"Price (Euros)\")\n",
        "plt.title(\"Price vs RAM (After Cleaning)\")\n",
        "plt.show()\n",
        "\n",
        "print(\"Before Cleaning:\", df.shape[0], \"rows\")\n",
        "print(\"After Cleaning :\", df_clean.shape[0], \"rows\")\n"
      ],
      "metadata": {
        "colab": {
          "base_uri": "https://localhost:8080/",
          "height": 445
        },
        "id": "OqZpEmo3vg1-",
        "outputId": "cbe67b9f-a1d3-49b8-a762-631780a0fc99"
      },
      "execution_count": 287,
      "outputs": [
        {
          "output_type": "display_data",
          "data": {
            "text/plain": [
              "<Figure size 600x400 with 1 Axes>"
            ],
            "image/png": "[encoded data removed]"
          },
          "metadata": {}
        },
        {
          "output_type": "stream",
          "name": "stdout",
          "text": [
            "Before Cleaning: 1273 rows\n",
            "After Cleaning : 1052 rows\n"
          ]
        }
      ]
    },
    {
      "cell_type": "markdown",
      "source": [
        "**Treating Missing Values in Ram**"
      ],
      "metadata": {
        "id": "vviLnTMORdBv"
      }
    },
    {
      "cell_type": "code",
      "source": [
        "print(f\"Median Ram {df['Ram'].median()}\")\n",
        "print(f\"Mean Ram: {df['Ram'].mean()}\")\n",
        "\n",
        "df['Ram']=df['Ram'].fillna(df['Ram'].median())"
      ],
      "metadata": {
        "colab": {
          "base_uri": "https://localhost:8080/"
        },
        "id": "4o6EQxkm3Ggc",
        "outputId": "cc04e91e-42a0-4bf1-a716-bf3d539c21c4"
      },
      "execution_count": 288,
      "outputs": [
        {
          "output_type": "stream",
          "name": "stdout",
          "text": [
            "Median Ram 8.0\n",
            "Mean Ram: 8.462686567164178\n"
          ]
        }
      ]
    },
    {
      "cell_type": "markdown",
      "source": [
        "**Preprocessing**"
      ],
      "metadata": {
        "id": "z4TifcHPRjBF"
      }
    },
    {
      "cell_type": "code",
      "source": [
        "def handle_missing_values(df):\n",
        "    df = df.copy()\n",
        "\n",
        "    # 1. Drop rows where Price is missing\n",
        "    df = df.dropna(subset=['Price'])\n",
        "\n",
        "    # 2. For all other columns → fill missing values\n",
        "    for col in df.columns:\n",
        "        if col == 'Price':\n",
        "            continue\n",
        "        if df[col].dtype == 'object':\n",
        "            mode_val = df[col].mode()\n",
        "            if not mode_val.empty:\n",
        "                df[col] = df[col].fillna(mode_val[0])\n",
        "            else:\n",
        "                df[col] = df[col].fillna(\"Unknown\")\n",
        "        else:\n",
        "            df[col] = df[col].fillna(df[col].median())\n",
        "\n",
        "    return df\n",
        "df = handle_missing_values(df)\n",
        "\n",
        "print(\"Any missing left?\")\n",
        "print(df.isnull().sum())\n",
        "print(\"Shape after handling:\", df.shape)"
      ],
      "metadata": {
        "colab": {
          "base_uri": "https://localhost:8080/"
        },
        "id": "sv0cZTWJBSuG",
        "outputId": "ab836239-1254-4e76-8a7f-487c85c8ef36"
      },
      "execution_count": 289,
      "outputs": [
        {
          "output_type": "stream",
          "name": "stdout",
          "text": [
            "Any missing left?\n",
            "Unnamed: 0             0\n",
            "Company                0\n",
            "TypeName               0\n",
            "Inches                 0\n",
            "ScreenResolution       0\n",
            "Cpu                    0\n",
            "Ram                    0\n",
            "Memory                 0\n",
            "Gpu                    0\n",
            "OpSys                  0\n",
            "Weight                 0\n",
            "Price                  0\n",
            "z_score_price       1273\n",
            "dtype: int64\n",
            "Shape after handling: (1273, 13)\n"
          ]
        }
      ]
    },
    {
      "cell_type": "markdown",
      "source": [
        "**Model Training and Evaluation**"
      ],
      "metadata": {
        "id": "9LMfXgpFRod0"
      }
    },
    {
      "cell_type": "code",
      "source": [
        "from tensorflow.keras.models import Sequential\n",
        "from tensorflow.keras.layers import Dense\n",
        "from tensorflow.keras.optimizers import Adam\n",
        "from sklearn.metrics import mean_absolute_error, mean_squared_error, r2_score\n",
        "import numpy as np\n",
        "\n",
        "# Define epochs and batch size\n",
        "ep = 50  # Number of epochs\n",
        "bs = 32  # Batch size\n",
        "\n",
        "\n",
        "model_reg = Sequential([\n",
        "    Dense(128, activation='relu', input_shape=(X_train_prep.shape[1],)),\n",
        "    Dense(64, activation='relu'),\n",
        "    Dense(1)\n",
        "])\n",
        "\n",
        "\n",
        "model_reg.compile(optimizer=Adam(learning_rate=0.001),\n",
        "                  loss='mse', metrics=['mae'])\n",
        "\n",
        "\n",
        "model_reg.fit(X_train_prep, y_train,\n",
        "              validation_data=(X_test_prep, y_test),\n",
        "              epochs=ep, batch_size=bs, verbose=0)\n",
        "\n",
        "# Predictions\n",
        "y_pred = model_reg.predict(X_test_prep, verbose=0)\n",
        "\n",
        "# Evaluation\n",
        "mae = mean_absolute_error(y_test, y_pred)\n",
        "rmse = np.sqrt(mean_squared_error(y_test, y_pred))\n",
        "r2 = r2_score(y_test, y_pred)\n",
        "\n",
        "print(\"Regression Model Final Evaluation:\")\n",
        "print(f\"MAE  : {mae:.2f} euros\")\n",
        "print(f\"RMSE : {rmse:.2f} euros\")\n",
        "print(f\"R²   : {r2:.2f}\")"
      ],
      "metadata": {
        "colab": {
          "base_uri": "https://localhost:8080/"
        },
        "id": "e9oNlwY9OjwB",
        "outputId": "f7f9b705-c17b-4898-e859-520f4d478222"
      },
      "execution_count": 300,
      "outputs": [
        {
          "output_type": "stream",
          "name": "stderr",
          "text": [
            "/usr/local/lib/python3.12/dist-packages/keras/src/layers/core/dense.py:93: UserWarning: Do not pass an `input_shape`/`input_dim` argument to a layer. When using Sequential models, prefer using an `Input(shape)` object as the first layer in the model instead.\n",
            "  super().__init__(activity_regularizer=activity_regularizer, **kwargs)\n"
          ]
        },
        {
          "output_type": "stream",
          "name": "stdout",
          "text": [
            "Regression Model Final Evaluation:\n",
            "MAE  : 14723.71 euros\n",
            "RMSE : 19961.00 euros\n",
            "R²   : 0.66\n"
          ]
        }
      ]
    },
    {
      "cell_type": "markdown",
      "source": [
        "**Random Forest Regression**"
      ],
      "metadata": {
        "id": "B210cxcRR18m"
      }
    },
    {
      "cell_type": "code",
      "source": [
        "from sklearn.ensemble import RandomForestRegressor\n",
        "from sklearn.metrics import mean_absolute_error, mean_squared_error, r2_score\n",
        "import numpy as np\n",
        "\n",
        "# Train Random Forest\n",
        "rf_model = RandomForestRegressor(n_estimators=200, random_state=42)\n",
        "rf_model.fit(X_train_prep, y_train)\n",
        "\n",
        "# Prediction\n",
        "y_pred_rf = rf_model.predict(X_test_prep)\n",
        "\n",
        "# Evaluation\n",
        "mae_rf = mean_absolute_error(y_test, y_pred_rf)\n",
        "rmse_rf = np.sqrt(mean_squared_error(y_test, y_pred_rf))\n",
        "r2_rf = r2_score(y_test, y_pred_rf)\n",
        "\n",
        "print(\"Random Forest Regression Final Evaluation:\")\n",
        "print(f\"MAE  : {mae_rf:.2f} euros\")\n",
        "print(f\"RMSE : {rmse_rf:.2f} euros\")\n",
        "print(f\"R²   : {r2_rf:.2f}\")\n"
      ],
      "metadata": {
        "colab": {
          "base_uri": "https://localhost:8080/"
        },
        "id": "pWv1PEnGQY7s",
        "outputId": "677e8581-b237-4d1d-a421-d1d80568b3bb"
      },
      "execution_count": 301,
      "outputs": [
        {
          "output_type": "stream",
          "name": "stdout",
          "text": [
            "Random Forest Regression Final Evaluation:\n",
            "MAE  : 10760.37 euros\n",
            "RMSE : 16655.34 euros\n",
            "R²   : 0.77\n"
          ]
        }
      ]
    },
    {
      "cell_type": "markdown",
      "source": [
        "**Model Comparison**"
      ],
      "metadata": {
        "id": "lAhD9wBLRwkE"
      }
    },
    {
      "cell_type": "code",
      "source": [
        "import pandas as pd\n",
        "\n",
        "results = pd.DataFrame({\n",
        "    \"Model\": [\"Neural Network (Keras)\", \"Random Forest\"],\n",
        "    \"MAE (€)\": [mae, mae_rf],\n",
        "    \"RMSE (€)\": [rmse, rmse_rf],\n",
        "    \"R²\": [r2, r2_rf]\n",
        "})\n",
        "\n",
        "print(\"\\nModel Comparison:\")\n",
        "print(results)\n"
      ],
      "metadata": {
        "colab": {
          "base_uri": "https://localhost:8080/"
        },
        "id": "uY6dlQukQfRs",
        "outputId": "17664fd4-a066-4055-de13-1f784b288a9e"
      },
      "execution_count": 302,
      "outputs": [
        {
          "output_type": "stream",
          "name": "stdout",
          "text": [
            "\n",
            "Model Comparison:\n",
            "                    Model       MAE (€)      RMSE (€)        R²\n",
            "0  Neural Network (Keras)  14723.707744  19961.001250  0.662667\n",
            "1           Random Forest  10760.371844  16655.336876  0.765144\n"
          ]
        }
      ]
    },
    {
      "cell_type": "markdown",
      "source": [
        "**Conclusions**\n",
        "\n",
        "1. Deploy the Random Forest model for laptop price prediction, as it provides the most accurate results.\n",
        "\n",
        "2. Continue improving feature engineering (e.g., more detailed CPU/GPU categories, brand-based features) to further reduce errors.\n",
        "\n",
        "3. Monitor model performance regularly and retrain with updated market data to keep predictions aligned with changing laptop trends."
      ],
      "metadata": {
        "id": "CBpMcDd8WjNL"
      }
    },
    {
      "cell_type": "markdown",
      "source": [
        "**GIthub Link**\n",
        "\n",
        "https://github.com/MJSarvajith/Data-Science-Python/blob/main/AIandML.ipynb"
      ],
      "metadata": {
        "id": "rADVAU76W4Y6"
      }
    }
  ]
}