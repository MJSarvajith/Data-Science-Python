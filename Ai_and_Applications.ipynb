{
  "nbformat": 4,
  "nbformat_minor": 0,
  "metadata": {
    "colab": {
      "provenance": [],
      "authorship_tag": "ABX9TyMVV5MkB2gtDvbZREA894Kv",
      "include_colab_link": true
    },
    "kernelspec": {
      "name": "python3",
      "display_name": "Python 3"
    },
    "language_info": {
      "name": "python"
    }
  },
  "cells": [
    {
      "cell_type": "markdown",
      "metadata": {
        "id": "view-in-github",
        "colab_type": "text"
      },
      "source": [
        "<a href=\"https://colab.research.google.com/github/MJSarvajith/Data-Science-Python/blob/main/Ai_and_Applications.ipynb\" target=\"_parent\"><img src=\"https://colab.research.google.com/assets/colab-badge.svg\" alt=\"Open In Colab\"/></a>"
      ]
    },
    {
      "cell_type": "markdown",
      "source": [
        "**Introduction**"
      ],
      "metadata": {
        "id": "17OwUh2poZ2a"
      }
    },
    {
      "cell_type": "markdown",
      "source": [
        "The study examines the Education Insights dataset which holds one million student records that document study time and attendance details and classroom participation and exam results and total grades. The study examines the impact of student participation on learning strategies which leads to enhanced academic success. The project team will analyze the collected data to determine which factors create the most influence on student academic performance and achievement. The research findings will direct educators and students toward effective strategies which produce superior educational outcomes and academic achievements."
      ],
      "metadata": {
        "id": "KESFMd7HpBC2"
      }
    },
    {
      "cell_type": "markdown",
      "source": [
        "**Imported Libraries**"
      ],
      "metadata": {
        "id": "825NWSc_2R9y"
      }
    },
    {
      "cell_type": "code",
      "execution_count": null,
      "metadata": {
        "id": "nRv2r5I6B3w7"
      },
      "outputs": [],
      "source": [
        "import pandas as pd\n",
        "import numpy as np\n",
        "import matplotlib.pyplot as plt\n",
        "import seaborn as sns"
      ]
    },
    {
      "cell_type": "code",
      "source": [
        "df = pd.read_csv('Education_Insights.csv')"
      ],
      "metadata": {
        "id": "J0c0kMTOIf22"
      },
      "execution_count": null,
      "outputs": []
    },
    {
      "cell_type": "markdown",
      "source": [
        "**Preview of Dataset**"
      ],
      "metadata": {
        "id": "BU6CmSeY26vH"
      }
    },
    {
      "cell_type": "code",
      "source": [
        "df.shape"
      ],
      "metadata": {
        "colab": {
          "base_uri": "https://localhost:8080/"
        },
        "id": "cMJIlc8P8pIz",
        "outputId": "71617d5a-3bc0-46d4-e051-22b7ee99c166"
      },
      "execution_count": null,
      "outputs": [
        {
          "output_type": "execute_result",
          "data": {
            "text/plain": [
              "(1000000, 6)"
            ]
          },
          "metadata": {},
          "execution_count": 112
        }
      ]
    },
    {
      "cell_type": "code",
      "source": [
        "df.head(10)"
      ],
      "metadata": {
        "colab": {
          "base_uri": "https://localhost:8080/",
          "height": 363
        },
        "id": "_TM_DC_UIq6M",
        "outputId": "d2bb8686-2559-4254-e75f-2dbbd8d7616e"
      },
      "execution_count": null,
      "outputs": [
        {
          "output_type": "execute_result",
          "data": {
            "text/plain": [
              "   student_id  weekly_self_study_hours  attendance_percentage  \\\n",
              "0           1                     18.5                   95.6   \n",
              "1           2                     14.0                   80.0   \n",
              "2           3                     19.5                   86.3   \n",
              "3           4                     25.7                   70.2   \n",
              "4           5                     13.4                   81.9   \n",
              "5           6                     13.4                   65.1   \n",
              "6           7                     26.1                   81.8   \n",
              "7           8                     20.4                  100.0   \n",
              "8           9                     11.7                  100.0   \n",
              "9          10                     18.8                   67.6   \n",
              "\n",
              "   class_participation  total_score grade  \n",
              "0                  3.8         97.9     A  \n",
              "1                  2.5         83.9     B  \n",
              "2                  5.3        100.0     A  \n",
              "3                  7.0        100.0     A  \n",
              "4                  6.9         92.0     A  \n",
              "5                  5.0         97.5     A  \n",
              "6                  5.9        100.0     A  \n",
              "7                  4.0         96.1     A  \n",
              "8                  8.2         69.8     C  \n",
              "9                  6.0         80.3     B  "
            ],
            "text/html": [
              "\n",
              "  <div id=\"df-922e6bba-a851-4bf9-a253-9fe93d5893ee\" class=\"colab-df-container\">\n",
              "    <div>\n",
              "<style scoped>\n",
              "    .dataframe tbody tr th:only-of-type {\n",
              "        vertical-align: middle;\n",
              "    }\n",
              "\n",
              "    .dataframe tbody tr th {\n",
              "        vertical-align: top;\n",
              "    }\n",
              "\n",
              "    .dataframe thead th {\n",
              "        text-align: right;\n",
              "    }\n",
              "</style>\n",
              "<table border=\"1\" class=\"dataframe\">\n",
              "  <thead>\n",
              "    <tr style=\"text-align: right;\">\n",
              "      <th></th>\n",
              "      <th>student_id</th>\n",
              "      <th>weekly_self_study_hours</th>\n",
              "      <th>attendance_percentage</th>\n",
              "      <th>class_participation</th>\n",
              "      <th>total_score</th>\n",
              "      <th>grade</th>\n",
              "    </tr>\n",
              "  </thead>\n",
              "  <tbody>\n",
              "    <tr>\n",
              "      <th>0</th>\n",
              "      <td>1</td>\n",
              "      <td>18.5</td>\n",
              "      <td>95.6</td>\n",
              "      <td>3.8</td>\n",
              "      <td>97.9</td>\n",
              "      <td>A</td>\n",
              "    </tr>\n",
              "    <tr>\n",
              "      <th>1</th>\n",
              "      <td>2</td>\n",
              "      <td>14.0</td>\n",
              "      <td>80.0</td>\n",
              "      <td>2.5</td>\n",
              "      <td>83.9</td>\n",
              "      <td>B</td>\n",
              "    </tr>\n",
              "    <tr>\n",
              "      <th>2</th>\n",
              "      <td>3</td>\n",
              "      <td>19.5</td>\n",
              "      <td>86.3</td>\n",
              "      <td>5.3</td>\n",
              "      <td>100.0</td>\n",
              "      <td>A</td>\n",
              "    </tr>\n",
              "    <tr>\n",
              "      <th>3</th>\n",
              "      <td>4</td>\n",
              "      <td>25.7</td>\n",
              "      <td>70.2</td>\n",
              "      <td>7.0</td>\n",
              "      <td>100.0</td>\n",
              "      <td>A</td>\n",
              "    </tr>\n",
              "    <tr>\n",
              "      <th>4</th>\n",
              "      <td>5</td>\n",
              "      <td>13.4</td>\n",
              "      <td>81.9</td>\n",
              "      <td>6.9</td>\n",
              "      <td>92.0</td>\n",
              "      <td>A</td>\n",
              "    </tr>\n",
              "    <tr>\n",
              "      <th>5</th>\n",
              "      <td>6</td>\n",
              "      <td>13.4</td>\n",
              "      <td>65.1</td>\n",
              "      <td>5.0</td>\n",
              "      <td>97.5</td>\n",
              "      <td>A</td>\n",
              "    </tr>\n",
              "    <tr>\n",
              "      <th>6</th>\n",
              "      <td>7</td>\n",
              "      <td>26.1</td>\n",
              "      <td>81.8</td>\n",
              "      <td>5.9</td>\n",
              "      <td>100.0</td>\n",
              "      <td>A</td>\n",
              "    </tr>\n",
              "    <tr>\n",
              "      <th>7</th>\n",
              "      <td>8</td>\n",
              "      <td>20.4</td>\n",
              "      <td>100.0</td>\n",
              "      <td>4.0</td>\n",
              "      <td>96.1</td>\n",
              "      <td>A</td>\n",
              "    </tr>\n",
              "    <tr>\n",
              "      <th>8</th>\n",
              "      <td>9</td>\n",
              "      <td>11.7</td>\n",
              "      <td>100.0</td>\n",
              "      <td>8.2</td>\n",
              "      <td>69.8</td>\n",
              "      <td>C</td>\n",
              "    </tr>\n",
              "    <tr>\n",
              "      <th>9</th>\n",
              "      <td>10</td>\n",
              "      <td>18.8</td>\n",
              "      <td>67.6</td>\n",
              "      <td>6.0</td>\n",
              "      <td>80.3</td>\n",
              "      <td>B</td>\n",
              "    </tr>\n",
              "  </tbody>\n",
              "</table>\n",
              "</div>\n",
              "    <div class=\"colab-df-buttons\">\n",
              "\n",
              "  <div class=\"colab-df-container\">\n",
              "    <button class=\"colab-df-convert\" onclick=\"convertToInteractive('df-922e6bba-a851-4bf9-a253-9fe93d5893ee')\"\n",
              "            title=\"Convert this dataframe to an interactive table.\"\n",
              "            style=\"display:none;\">\n",
              "\n",
              "  <svg xmlns=\"http://www.w3.org/2000/svg\" height=\"24px\" viewBox=\"0 -960 960 960\">\n",
              "    <path d=\"M120-120v-720h720v720H120Zm60-500h600v-160H180v160Zm220 220h160v-160H400v160Zm0 220h160v-160H400v160ZM180-400h160v-160H180v160Zm440 0h160v-160H620v160ZM180-180h160v-160H180v160Zm440 0h160v-160H620v160Z\"/>\n",
              "  </svg>\n",
              "    </button>\n",
              "\n",
              "  <style>\n",
              "    .colab-df-container {\n",
              "      display:flex;\n",
              "      gap: 12px;\n",
              "    }\n",
              "\n",
              "    .colab-df-convert {\n",
              "      background-color: #E8F0FE;\n",
              "      border: none;\n",
              "      border-radius: 50%;\n",
              "      cursor: pointer;\n",
              "      display: none;\n",
              "      fill: #1967D2;\n",
              "      height: 32px;\n",
              "      padding: 0 0 0 0;\n",
              "      width: 32px;\n",
              "    }\n",
              "\n",
              "    .colab-df-convert:hover {\n",
              "      background-color: #E2EBFA;\n",
              "      box-shadow: 0px 1px 2px rgba(60, 64, 67, 0.3), 0px 1px 3px 1px rgba(60, 64, 67, 0.15);\n",
              "      fill: #174EA6;\n",
              "    }\n",
              "\n",
              "    .colab-df-buttons div {\n",
              "      margin-bottom: 4px;\n",
              "    }\n",
              "\n",
              "    [theme=dark] .colab-df-convert {\n",
              "      background-color: #3B4455;\n",
              "      fill: #D2E3FC;\n",
              "    }\n",
              "\n",
              "    [theme=dark] .colab-df-convert:hover {\n",
              "      background-color: #434B5C;\n",
              "      box-shadow: 0px 1px 3px 1px rgba(0, 0, 0, 0.15);\n",
              "      filter: drop-shadow(0px 1px 2px rgba(0, 0, 0, 0.3));\n",
              "      fill: #FFFFFF;\n",
              "    }\n",
              "  </style>\n",
              "\n",
              "    <script>\n",
              "      const buttonEl =\n",
              "        document.querySelector('#df-922e6bba-a851-4bf9-a253-9fe93d5893ee button.colab-df-convert');\n",
              "      buttonEl.style.display =\n",
              "        google.colab.kernel.accessAllowed ? 'block' : 'none';\n",
              "\n",
              "      async function convertToInteractive(key) {\n",
              "        const element = document.querySelector('#df-922e6bba-a851-4bf9-a253-9fe93d5893ee');\n",
              "        const dataTable =\n",
              "          await google.colab.kernel.invokeFunction('convertToInteractive',\n",
              "                                                    [key], {});\n",
              "        if (!dataTable) return;\n",
              "\n",
              "        const docLinkHtml = 'Like what you see? Visit the ' +\n",
              "          '<a target=\"_blank\" href=https://colab.research.google.com/notebooks/data_table.ipynb>data table notebook</a>'\n",
              "          + ' to learn more about interactive tables.';\n",
              "        element.innerHTML = '';\n",
              "        dataTable['output_type'] = 'display_data';\n",
              "        await google.colab.output.renderOutput(dataTable, element);\n",
              "        const docLink = document.createElement('div');\n",
              "        docLink.innerHTML = docLinkHtml;\n",
              "        element.appendChild(docLink);\n",
              "      }\n",
              "    </script>\n",
              "  </div>\n",
              "\n",
              "\n",
              "    <div id=\"df-8108b150-97a0-4c9e-b798-769d58398013\">\n",
              "      <button class=\"colab-df-quickchart\" onclick=\"quickchart('df-8108b150-97a0-4c9e-b798-769d58398013')\"\n",
              "                title=\"Suggest charts\"\n",
              "                style=\"display:none;\">\n",
              "\n",
              "<svg xmlns=\"http://www.w3.org/2000/svg\" height=\"24px\"viewBox=\"0 0 24 24\"\n",
              "     width=\"24px\">\n",
              "    <g>\n",
              "        <path d=\"M19 3H5c-1.1 0-2 .9-2 2v14c0 1.1.9 2 2 2h14c1.1 0 2-.9 2-2V5c0-1.1-.9-2-2-2zM9 17H7v-7h2v7zm4 0h-2V7h2v10zm4 0h-2v-4h2v4z\"/>\n",
              "    </g>\n",
              "</svg>\n",
              "      </button>\n",
              "\n",
              "<style>\n",
              "  .colab-df-quickchart {\n",
              "      --bg-color: #E8F0FE;\n",
              "      --fill-color: #1967D2;\n",
              "      --hover-bg-color: #E2EBFA;\n",
              "      --hover-fill-color: #174EA6;\n",
              "      --disabled-fill-color: #AAA;\n",
              "      --disabled-bg-color: #DDD;\n",
              "  }\n",
              "\n",
              "  [theme=dark] .colab-df-quickchart {\n",
              "      --bg-color: #3B4455;\n",
              "      --fill-color: #D2E3FC;\n",
              "      --hover-bg-color: #434B5C;\n",
              "      --hover-fill-color: #FFFFFF;\n",
              "      --disabled-bg-color: #3B4455;\n",
              "      --disabled-fill-color: #666;\n",
              "  }\n",
              "\n",
              "  .colab-df-quickchart {\n",
              "    background-color: var(--bg-color);\n",
              "    border: none;\n",
              "    border-radius: 50%;\n",
              "    cursor: pointer;\n",
              "    display: none;\n",
              "    fill: var(--fill-color);\n",
              "    height: 32px;\n",
              "    padding: 0;\n",
              "    width: 32px;\n",
              "  }\n",
              "\n",
              "  .colab-df-quickchart:hover {\n",
              "    background-color: var(--hover-bg-color);\n",
              "    box-shadow: 0 1px 2px rgba(60, 64, 67, 0.3), 0 1px 3px 1px rgba(60, 64, 67, 0.15);\n",
              "    fill: var(--button-hover-fill-color);\n",
              "  }\n",
              "\n",
              "  .colab-df-quickchart-complete:disabled,\n",
              "  .colab-df-quickchart-complete:disabled:hover {\n",
              "    background-color: var(--disabled-bg-color);\n",
              "    fill: var(--disabled-fill-color);\n",
              "    box-shadow: none;\n",
              "  }\n",
              "\n",
              "  .colab-df-spinner {\n",
              "    border: 2px solid var(--fill-color);\n",
              "    border-color: transparent;\n",
              "    border-bottom-color: var(--fill-color);\n",
              "    animation:\n",
              "      spin 1s steps(1) infinite;\n",
              "  }\n",
              "\n",
              "  @keyframes spin {\n",
              "    0% {\n",
              "      border-color: transparent;\n",
              "      border-bottom-color: var(--fill-color);\n",
              "      border-left-color: var(--fill-color);\n",
              "    }\n",
              "    20% {\n",
              "      border-color: transparent;\n",
              "      border-left-color: var(--fill-color);\n",
              "      border-top-color: var(--fill-color);\n",
              "    }\n",
              "    30% {\n",
              "      border-color: transparent;\n",
              "      border-left-color: var(--fill-color);\n",
              "      border-top-color: var(--fill-color);\n",
              "      border-right-color: var(--fill-color);\n",
              "    }\n",
              "    40% {\n",
              "      border-color: transparent;\n",
              "      border-right-color: var(--fill-color);\n",
              "      border-top-color: var(--fill-color);\n",
              "    }\n",
              "    60% {\n",
              "      border-color: transparent;\n",
              "      border-right-color: var(--fill-color);\n",
              "    }\n",
              "    80% {\n",
              "      border-color: transparent;\n",
              "      border-right-color: var(--fill-color);\n",
              "      border-bottom-color: var(--fill-color);\n",
              "    }\n",
              "    90% {\n",
              "      border-color: transparent;\n",
              "      border-bottom-color: var(--fill-color);\n",
              "    }\n",
              "  }\n",
              "</style>\n",
              "\n",
              "      <script>\n",
              "        async function quickchart(key) {\n",
              "          const quickchartButtonEl =\n",
              "            document.querySelector('#' + key + ' button');\n",
              "          quickchartButtonEl.disabled = true;  // To prevent multiple clicks.\n",
              "          quickchartButtonEl.classList.add('colab-df-spinner');\n",
              "          try {\n",
              "            const charts = await google.colab.kernel.invokeFunction(\n",
              "                'suggestCharts', [key], {});\n",
              "          } catch (error) {\n",
              "            console.error('Error during call to suggestCharts:', error);\n",
              "          }\n",
              "          quickchartButtonEl.classList.remove('colab-df-spinner');\n",
              "          quickchartButtonEl.classList.add('colab-df-quickchart-complete');\n",
              "        }\n",
              "        (() => {\n",
              "          let quickchartButtonEl =\n",
              "            document.querySelector('#df-8108b150-97a0-4c9e-b798-769d58398013 button');\n",
              "          quickchartButtonEl.style.display =\n",
              "            google.colab.kernel.accessAllowed ? 'block' : 'none';\n",
              "        })();\n",
              "      </script>\n",
              "    </div>\n",
              "\n",
              "    </div>\n",
              "  </div>\n"
            ],
            "application/vnd.google.colaboratory.intrinsic+json": {
              "type": "dataframe",
              "variable_name": "df"
            }
          },
          "metadata": {},
          "execution_count": 113
        }
      ]
    },
    {
      "cell_type": "markdown",
      "source": [
        "**Dataset Information**"
      ],
      "metadata": {
        "id": "arW9QNbtp1pr"
      }
    },
    {
      "cell_type": "code",
      "source": [
        "df.info()"
      ],
      "metadata": {
        "id": "eyWtIoH1RS7h",
        "outputId": "6e82d168-4ce0-4bee-84e6-1ae831624686",
        "colab": {
          "base_uri": "https://localhost:8080/"
        }
      },
      "execution_count": null,
      "outputs": [
        {
          "output_type": "stream",
          "name": "stdout",
          "text": [
            "<class 'pandas.core.frame.DataFrame'>\n",
            "RangeIndex: 1000000 entries, 0 to 999999\n",
            "Data columns (total 6 columns):\n",
            " #   Column                   Non-Null Count    Dtype  \n",
            "---  ------                   --------------    -----  \n",
            " 0   student_id               1000000 non-null  int64  \n",
            " 1   weekly_self_study_hours  1000000 non-null  float64\n",
            " 2   attendance_percentage    1000000 non-null  float64\n",
            " 3   class_participation      1000000 non-null  float64\n",
            " 4   total_score              1000000 non-null  float64\n",
            " 5   grade                    1000000 non-null  object \n",
            "dtypes: float64(4), int64(1), object(1)\n",
            "memory usage: 45.8+ MB\n"
          ]
        }
      ]
    },
    {
      "cell_type": "markdown",
      "source": [
        "**Missing Value Analysis**"
      ],
      "metadata": {
        "id": "W10TvWUAp8IC"
      }
    },
    {
      "cell_type": "code",
      "source": [
        "missing_values = df.isnull().sum()\n",
        "print(missing_values)"
      ],
      "metadata": {
        "colab": {
          "base_uri": "https://localhost:8080/"
        },
        "id": "heVfWskiiT69",
        "outputId": "06aa490f-251b-42ce-b2cc-cb604cdb8282"
      },
      "execution_count": null,
      "outputs": [
        {
          "output_type": "stream",
          "name": "stdout",
          "text": [
            "student_id                 0\n",
            "weekly_self_study_hours    0\n",
            "attendance_percentage      0\n",
            "class_participation        0\n",
            "total_score                0\n",
            "grade                      0\n",
            "dtype: int64\n"
          ]
        }
      ]
    },
    {
      "cell_type": "markdown",
      "source": [
        "**Dataset Description**"
      ],
      "metadata": {
        "id": "en0sUqDUqVtn"
      }
    },
    {
      "cell_type": "code",
      "source": [
        "df.describe()"
      ],
      "metadata": {
        "colab": {
          "base_uri": "https://localhost:8080/",
          "height": 300
        },
        "id": "YfWqELqloXMl",
        "outputId": "64a10ebc-70af-4c7d-81c1-55e661da9a41"
      },
      "execution_count": null,
      "outputs": [
        {
          "output_type": "execute_result",
          "data": {
            "text/plain": [
              "           student_id  weekly_self_study_hours  attendance_percentage  \\\n",
              "count  1000000.000000           1000000.000000         1000000.000000   \n",
              "mean    500000.500000                15.029127              84.711046   \n",
              "std     288675.278933                 6.899431               9.424143   \n",
              "min          1.000000                 0.000000              50.000000   \n",
              "25%     250000.750000                10.300000              78.300000   \n",
              "50%     500000.500000                15.000000              85.000000   \n",
              "75%     750000.250000                19.700000              91.800000   \n",
              "max    1000000.000000                40.000000             100.000000   \n",
              "\n",
              "       class_participation     total_score  \n",
              "count       1000000.000000  1000000.000000  \n",
              "mean              5.985203       84.283845  \n",
              "std               1.956421       15.432969  \n",
              "min               0.000000        9.400000  \n",
              "25%               4.700000       73.900000  \n",
              "50%               6.000000       87.500000  \n",
              "75%               7.300000      100.000000  \n",
              "max              10.000000      100.000000  "
            ],
            "text/html": [
              "\n",
              "  <div id=\"df-d9a2ab69-9b99-4c84-8d13-e70094a2a832\" class=\"colab-df-container\">\n",
              "    <div>\n",
              "<style scoped>\n",
              "    .dataframe tbody tr th:only-of-type {\n",
              "        vertical-align: middle;\n",
              "    }\n",
              "\n",
              "    .dataframe tbody tr th {\n",
              "        vertical-align: top;\n",
              "    }\n",
              "\n",
              "    .dataframe thead th {\n",
              "        text-align: right;\n",
              "    }\n",
              "</style>\n",
              "<table border=\"1\" class=\"dataframe\">\n",
              "  <thead>\n",
              "    <tr style=\"text-align: right;\">\n",
              "      <th></th>\n",
              "      <th>student_id</th>\n",
              "      <th>weekly_self_study_hours</th>\n",
              "      <th>attendance_percentage</th>\n",
              "      <th>class_participation</th>\n",
              "      <th>total_score</th>\n",
              "    </tr>\n",
              "  </thead>\n",
              "  <tbody>\n",
              "    <tr>\n",
              "      <th>count</th>\n",
              "      <td>1000000.000000</td>\n",
              "      <td>1000000.000000</td>\n",
              "      <td>1000000.000000</td>\n",
              "      <td>1000000.000000</td>\n",
              "      <td>1000000.000000</td>\n",
              "    </tr>\n",
              "    <tr>\n",
              "      <th>mean</th>\n",
              "      <td>500000.500000</td>\n",
              "      <td>15.029127</td>\n",
              "      <td>84.711046</td>\n",
              "      <td>5.985203</td>\n",
              "      <td>84.283845</td>\n",
              "    </tr>\n",
              "    <tr>\n",
              "      <th>std</th>\n",
              "      <td>288675.278933</td>\n",
              "      <td>6.899431</td>\n",
              "      <td>9.424143</td>\n",
              "      <td>1.956421</td>\n",
              "      <td>15.432969</td>\n",
              "    </tr>\n",
              "    <tr>\n",
              "      <th>min</th>\n",
              "      <td>1.000000</td>\n",
              "      <td>0.000000</td>\n",
              "      <td>50.000000</td>\n",
              "      <td>0.000000</td>\n",
              "      <td>9.400000</td>\n",
              "    </tr>\n",
              "    <tr>\n",
              "      <th>25%</th>\n",
              "      <td>250000.750000</td>\n",
              "      <td>10.300000</td>\n",
              "      <td>78.300000</td>\n",
              "      <td>4.700000</td>\n",
              "      <td>73.900000</td>\n",
              "    </tr>\n",
              "    <tr>\n",
              "      <th>50%</th>\n",
              "      <td>500000.500000</td>\n",
              "      <td>15.000000</td>\n",
              "      <td>85.000000</td>\n",
              "      <td>6.000000</td>\n",
              "      <td>87.500000</td>\n",
              "    </tr>\n",
              "    <tr>\n",
              "      <th>75%</th>\n",
              "      <td>750000.250000</td>\n",
              "      <td>19.700000</td>\n",
              "      <td>91.800000</td>\n",
              "      <td>7.300000</td>\n",
              "      <td>100.000000</td>\n",
              "    </tr>\n",
              "    <tr>\n",
              "      <th>max</th>\n",
              "      <td>1000000.000000</td>\n",
              "      <td>40.000000</td>\n",
              "      <td>100.000000</td>\n",
              "      <td>10.000000</td>\n",
              "      <td>100.000000</td>\n",
              "    </tr>\n",
              "  </tbody>\n",
              "</table>\n",
              "</div>\n",
              "    <div class=\"colab-df-buttons\">\n",
              "\n",
              "  <div class=\"colab-df-container\">\n",
              "    <button class=\"colab-df-convert\" onclick=\"convertToInteractive('df-d9a2ab69-9b99-4c84-8d13-e70094a2a832')\"\n",
              "            title=\"Convert this dataframe to an interactive table.\"\n",
              "            style=\"display:none;\">\n",
              "\n",
              "  <svg xmlns=\"http://www.w3.org/2000/svg\" height=\"24px\" viewBox=\"0 -960 960 960\">\n",
              "    <path d=\"M120-120v-720h720v720H120Zm60-500h600v-160H180v160Zm220 220h160v-160H400v160Zm0 220h160v-160H400v160ZM180-400h160v-160H180v160Zm440 0h160v-160H620v160ZM180-180h160v-160H180v160Zm440 0h160v-160H620v160Z\"/>\n",
              "  </svg>\n",
              "    </button>\n",
              "\n",
              "  <style>\n",
              "    .colab-df-container {\n",
              "      display:flex;\n",
              "      gap: 12px;\n",
              "    }\n",
              "\n",
              "    .colab-df-convert {\n",
              "      background-color: #E8F0FE;\n",
              "      border: none;\n",
              "      border-radius: 50%;\n",
              "      cursor: pointer;\n",
              "      display: none;\n",
              "      fill: #1967D2;\n",
              "      height: 32px;\n",
              "      padding: 0 0 0 0;\n",
              "      width: 32px;\n",
              "    }\n",
              "\n",
              "    .colab-df-convert:hover {\n",
              "      background-color: #E2EBFA;\n",
              "      box-shadow: 0px 1px 2px rgba(60, 64, 67, 0.3), 0px 1px 3px 1px rgba(60, 64, 67, 0.15);\n",
              "      fill: #174EA6;\n",
              "    }\n",
              "\n",
              "    .colab-df-buttons div {\n",
              "      margin-bottom: 4px;\n",
              "    }\n",
              "\n",
              "    [theme=dark] .colab-df-convert {\n",
              "      background-color: #3B4455;\n",
              "      fill: #D2E3FC;\n",
              "    }\n",
              "\n",
              "    [theme=dark] .colab-df-convert:hover {\n",
              "      background-color: #434B5C;\n",
              "      box-shadow: 0px 1px 3px 1px rgba(0, 0, 0, 0.15);\n",
              "      filter: drop-shadow(0px 1px 2px rgba(0, 0, 0, 0.3));\n",
              "      fill: #FFFFFF;\n",
              "    }\n",
              "  </style>\n",
              "\n",
              "    <script>\n",
              "      const buttonEl =\n",
              "        document.querySelector('#df-d9a2ab69-9b99-4c84-8d13-e70094a2a832 button.colab-df-convert');\n",
              "      buttonEl.style.display =\n",
              "        google.colab.kernel.accessAllowed ? 'block' : 'none';\n",
              "\n",
              "      async function convertToInteractive(key) {\n",
              "        const element = document.querySelector('#df-d9a2ab69-9b99-4c84-8d13-e70094a2a832');\n",
              "        const dataTable =\n",
              "          await google.colab.kernel.invokeFunction('convertToInteractive',\n",
              "                                                    [key], {});\n",
              "        if (!dataTable) return;\n",
              "\n",
              "        const docLinkHtml = 'Like what you see? Visit the ' +\n",
              "          '<a target=\"_blank\" href=https://colab.research.google.com/notebooks/data_table.ipynb>data table notebook</a>'\n",
              "          + ' to learn more about interactive tables.';\n",
              "        element.innerHTML = '';\n",
              "        dataTable['output_type'] = 'display_data';\n",
              "        await google.colab.output.renderOutput(dataTable, element);\n",
              "        const docLink = document.createElement('div');\n",
              "        docLink.innerHTML = docLinkHtml;\n",
              "        element.appendChild(docLink);\n",
              "      }\n",
              "    </script>\n",
              "  </div>\n",
              "\n",
              "\n",
              "    <div id=\"df-b8374254-7c68-4b46-9cf4-6f99bf31315c\">\n",
              "      <button class=\"colab-df-quickchart\" onclick=\"quickchart('df-b8374254-7c68-4b46-9cf4-6f99bf31315c')\"\n",
              "                title=\"Suggest charts\"\n",
              "                style=\"display:none;\">\n",
              "\n",
              "<svg xmlns=\"http://www.w3.org/2000/svg\" height=\"24px\"viewBox=\"0 0 24 24\"\n",
              "     width=\"24px\">\n",
              "    <g>\n",
              "        <path d=\"M19 3H5c-1.1 0-2 .9-2 2v14c0 1.1.9 2 2 2h14c1.1 0 2-.9 2-2V5c0-1.1-.9-2-2-2zM9 17H7v-7h2v7zm4 0h-2V7h2v10zm4 0h-2v-4h2v4z\"/>\n",
              "    </g>\n",
              "</svg>\n",
              "      </button>\n",
              "\n",
              "<style>\n",
              "  .colab-df-quickchart {\n",
              "      --bg-color: #E8F0FE;\n",
              "      --fill-color: #1967D2;\n",
              "      --hover-bg-color: #E2EBFA;\n",
              "      --hover-fill-color: #174EA6;\n",
              "      --disabled-fill-color: #AAA;\n",
              "      --disabled-bg-color: #DDD;\n",
              "  }\n",
              "\n",
              "  [theme=dark] .colab-df-quickchart {\n",
              "      --bg-color: #3B4455;\n",
              "      --fill-color: #D2E3FC;\n",
              "      --hover-bg-color: #434B5C;\n",
              "      --hover-fill-color: #FFFFFF;\n",
              "      --disabled-bg-color: #3B4455;\n",
              "      --disabled-fill-color: #666;\n",
              "  }\n",
              "\n",
              "  .colab-df-quickchart {\n",
              "    background-color: var(--bg-color);\n",
              "    border: none;\n",
              "    border-radius: 50%;\n",
              "    cursor: pointer;\n",
              "    display: none;\n",
              "    fill: var(--fill-color);\n",
              "    height: 32px;\n",
              "    padding: 0;\n",
              "    width: 32px;\n",
              "  }\n",
              "\n",
              "  .colab-df-quickchart:hover {\n",
              "    background-color: var(--hover-bg-color);\n",
              "    box-shadow: 0 1px 2px rgba(60, 64, 67, 0.3), 0 1px 3px 1px rgba(60, 64, 67, 0.15);\n",
              "    fill: var(--button-hover-fill-color);\n",
              "  }\n",
              "\n",
              "  .colab-df-quickchart-complete:disabled,\n",
              "  .colab-df-quickchart-complete:disabled:hover {\n",
              "    background-color: var(--disabled-bg-color);\n",
              "    fill: var(--disabled-fill-color);\n",
              "    box-shadow: none;\n",
              "  }\n",
              "\n",
              "  .colab-df-spinner {\n",
              "    border: 2px solid var(--fill-color);\n",
              "    border-color: transparent;\n",
              "    border-bottom-color: var(--fill-color);\n",
              "    animation:\n",
              "      spin 1s steps(1) infinite;\n",
              "  }\n",
              "\n",
              "  @keyframes spin {\n",
              "    0% {\n",
              "      border-color: transparent;\n",
              "      border-bottom-color: var(--fill-color);\n",
              "      border-left-color: var(--fill-color);\n",
              "    }\n",
              "    20% {\n",
              "      border-color: transparent;\n",
              "      border-left-color: var(--fill-color);\n",
              "      border-top-color: var(--fill-color);\n",
              "    }\n",
              "    30% {\n",
              "      border-color: transparent;\n",
              "      border-left-color: var(--fill-color);\n",
              "      border-top-color: var(--fill-color);\n",
              "      border-right-color: var(--fill-color);\n",
              "    }\n",
              "    40% {\n",
              "      border-color: transparent;\n",
              "      border-right-color: var(--fill-color);\n",
              "      border-top-color: var(--fill-color);\n",
              "    }\n",
              "    60% {\n",
              "      border-color: transparent;\n",
              "      border-right-color: var(--fill-color);\n",
              "    }\n",
              "    80% {\n",
              "      border-color: transparent;\n",
              "      border-right-color: var(--fill-color);\n",
              "      border-bottom-color: var(--fill-color);\n",
              "    }\n",
              "    90% {\n",
              "      border-color: transparent;\n",
              "      border-bottom-color: var(--fill-color);\n",
              "    }\n",
              "  }\n",
              "</style>\n",
              "\n",
              "      <script>\n",
              "        async function quickchart(key) {\n",
              "          const quickchartButtonEl =\n",
              "            document.querySelector('#' + key + ' button');\n",
              "          quickchartButtonEl.disabled = true;  // To prevent multiple clicks.\n",
              "          quickchartButtonEl.classList.add('colab-df-spinner');\n",
              "          try {\n",
              "            const charts = await google.colab.kernel.invokeFunction(\n",
              "                'suggestCharts', [key], {});\n",
              "          } catch (error) {\n",
              "            console.error('Error during call to suggestCharts:', error);\n",
              "          }\n",
              "          quickchartButtonEl.classList.remove('colab-df-spinner');\n",
              "          quickchartButtonEl.classList.add('colab-df-quickchart-complete');\n",
              "        }\n",
              "        (() => {\n",
              "          let quickchartButtonEl =\n",
              "            document.querySelector('#df-b8374254-7c68-4b46-9cf4-6f99bf31315c button');\n",
              "          quickchartButtonEl.style.display =\n",
              "            google.colab.kernel.accessAllowed ? 'block' : 'none';\n",
              "        })();\n",
              "      </script>\n",
              "    </div>\n",
              "\n",
              "    </div>\n",
              "  </div>\n"
            ],
            "application/vnd.google.colaboratory.intrinsic+json": {
              "type": "dataframe",
              "summary": "{\n  \"name\": \"df\",\n  \"rows\": 8,\n  \"fields\": [\n    {\n      \"column\": \"student_id\",\n      \"properties\": {\n        \"dtype\": \"number\",\n        \"std\": 360404.5334551081,\n        \"min\": 1.0,\n        \"max\": 1000000.0,\n        \"num_unique_values\": 6,\n        \"samples\": [\n          1000000.0,\n          500000.5,\n          750000.25\n        ],\n        \"semantic_type\": \"\",\n        \"description\": \"\"\n      }\n    },\n    {\n      \"column\": \"weekly_self_study_hours\",\n      \"properties\": {\n        \"dtype\": \"number\",\n        \"std\": 353547.9900793348,\n        \"min\": 0.0,\n        \"max\": 1000000.0,\n        \"num_unique_values\": 8,\n        \"samples\": [\n          15.029126899999993,\n          15.0,\n          1000000.0\n        ],\n        \"semantic_type\": \"\",\n        \"description\": \"\"\n      }\n    },\n    {\n      \"column\": \"attendance_percentage\",\n      \"properties\": {\n        \"dtype\": \"number\",\n        \"std\": 353528.176609141,\n        \"min\": 9.424143384967723,\n        \"max\": 1000000.0,\n        \"num_unique_values\": 8,\n        \"samples\": [\n          84.71104599999998,\n          85.0,\n          1000000.0\n        ],\n        \"semantic_type\": \"\",\n        \"description\": \"\"\n      }\n    },\n    {\n      \"column\": \"class_participation\",\n      \"properties\": {\n        \"dtype\": \"number\",\n        \"std\": 353551.57528060436,\n        \"min\": 0.0,\n        \"max\": 1000000.0,\n        \"num_unique_values\": 8,\n        \"samples\": [\n          5.985202599999998,\n          6.0,\n          1000000.0\n        ],\n        \"semantic_type\": \"\",\n        \"description\": \"\"\n      }\n    },\n    {\n      \"column\": \"total_score\",\n      \"properties\": {\n        \"dtype\": \"number\",\n        \"std\": 353529.62770789606,\n        \"min\": 9.4,\n        \"max\": 1000000.0,\n        \"num_unique_values\": 7,\n        \"samples\": [\n          1000000.0,\n          84.28384529999998,\n          87.5\n        ],\n        \"semantic_type\": \"\",\n        \"description\": \"\"\n      }\n    }\n  ]\n}"
            }
          },
          "metadata": {},
          "execution_count": 116
        }
      ]
    },
    {
      "cell_type": "markdown",
      "source": [
        "**Data Analysis**"
      ],
      "metadata": {
        "id": "NvXZwF0xqisI"
      }
    },
    {
      "cell_type": "code",
      "source": [
        "# 1. How do the average study hours and the average scores change across different grades?\n",
        "\n",
        "study_vs_score = df.groupby('grade')[['weekly_self_study_hours','total_score']].mean()\n",
        "print(study_vs_score)\n",
        "study_vs_score.plot(kind='line', marker='o', figsize=(6,4))\n",
        "plt.title(\"Average Study Hours vs Average Score by Grade\")\n",
        "plt.ylabel(\"Value\")\n",
        "plt.show()"
      ],
      "metadata": {
        "colab": {
          "base_uri": "https://localhost:8080/",
          "height": 531
        },
        "id": "5t5yE930pTGt",
        "outputId": "77173930-fe05-4609-e5f8-f7c7efe217a3"
      },
      "execution_count": null,
      "outputs": [
        {
          "output_type": "stream",
          "name": "stdout",
          "text": [
            "       weekly_self_study_hours  total_score\n",
            "grade                                      \n",
            "A                    19.375738    96.042375\n",
            "B                    12.115533    77.946590\n",
            "C                     7.691161    63.564524\n",
            "D                     3.764143    49.380346\n",
            "F                     1.524662    35.474146\n"
          ]
        },
        {
          "output_type": "display_data",
          "data": {
            "text/plain": [
              "<Figure size 600x400 with 1 Axes>"
            ],
            "image/png": "[encoded data removed]"
          },
          "metadata": {}
        }
      ]
    },
    {
      "cell_type": "code",
      "source": [
        "# 2. How many students scored between 70 and 80?\n",
        "\n",
        "score_70_80 = df[(df['total_score'] >= 70) & (df['total_score'] <= 80)]\n",
        "print(f\"Number of students who scored between 70 and 80: {score_70_80.shape[0]}\")"
      ],
      "metadata": {
        "id": "GmaAIAvJszVX",
        "colab": {
          "base_uri": "https://localhost:8080/"
        },
        "outputId": "bf8bfc37-b4fc-4e49-dbc5-c09a87db6b54"
      },
      "execution_count": null,
      "outputs": [
        {
          "output_type": "stream",
          "name": "stdout",
          "text": [
            "Number of students who scored between 70 and 80: 164272\n"
          ]
        }
      ]
    },
    {
      "cell_type": "code",
      "source": [
        "# 3. Which grade group has the highest average total score?\n",
        "\n",
        "avg_scores = df.groupby('grade')['total_score'].mean()\n",
        "avg_scores.plot(kind='bar', color='red', edgecolor='black', figsize=(5,4))\n",
        "plt.title(\"Average Total Score by Grade\")\n",
        "plt.ylabel(\"Average Score\")\n",
        "plt.xlabel(\"Grade\")\n",
        "plt.show()"
      ],
      "metadata": {
        "colab": {
          "base_uri": "https://localhost:8080/",
          "height": 407
        },
        "id": "JUO_aMvc0G9q",
        "outputId": "1302e8e0-7e5d-42ed-84a1-49f1b4ee46b1"
      },
      "execution_count": null,
      "outputs": [
        {
          "output_type": "display_data",
          "data": {
            "text/plain": [
              "<Figure size 500x400 with 1 Axes>"
            ],
            "image/png": "[encoded data removed]"
          },
          "metadata": {}
        }
      ]
    },
    {
      "cell_type": "code",
      "source": [
        "# 4. What is the average attendance percentage of all students?\n",
        "\n",
        "\n",
        "avg_attendance = df['attendance_percentage'].mean()\n",
        "print(\"Answer:\", round(avg_attendance, 2), \"%\")\n",
        "\n",
        "plt.figure(figsize=(5,4))\n",
        "plt.bar([\"Average Attendance\"], [avg_attendance], color=\"skyblue\")\n",
        "plt.ylabel(\"Attendance %\")\n",
        "plt.title(\"Average Attendance of Students\")\n",
        "plt.show()\n"
      ],
      "metadata": {
        "colab": {
          "base_uri": "https://localhost:8080/",
          "height": 408
        },
        "id": "H6zwF0Jc5let",
        "outputId": "ad256ea2-16aa-4ca6-c080-2347cd9b9e48"
      },
      "execution_count": null,
      "outputs": [
        {
          "output_type": "stream",
          "name": "stdout",
          "text": [
            "Answer: 84.71 %\n"
          ]
        },
        {
          "output_type": "display_data",
          "data": {
            "text/plain": [
              "<Figure size 500x400 with 1 Axes>"
            ],
            "image/png": "[encoded data removed]"
          },
          "metadata": {}
        }
      ]
    },
    {
      "cell_type": "code",
      "source": [
        "# 5. How many students scored a perfect 100?\n",
        "\n",
        "perfect_scores = df[df['total_score'] == 100]\n",
        "print(f\"number of students who scored 100 marks:  {perfect_scores.shape[0]}\")\n"
      ],
      "metadata": {
        "colab": {
          "base_uri": "https://localhost:8080/"
        },
        "id": "WUGdx63o75Rf",
        "outputId": "aa9ed76e-4ea6-4a9e-d3b1-357caa689327"
      },
      "execution_count": null,
      "outputs": [
        {
          "output_type": "stream",
          "name": "stdout",
          "text": [
            "number of students who scored 100 marks:  268121\n"
          ]
        }
      ]
    },
    {
      "cell_type": "code",
      "source": [
        "# 6. Which factor influences scores more: attendance or study hours?\n",
        "\n",
        "corr_study = df['weekly_self_study_hours'].corr(df['total_score'])\n",
        "corr_attendance = df['attendance_percentage'].corr(df['total_score'])\n",
        "\n",
        "if abs(corr_study) > abs(corr_attendance):\n",
        "    print(\"Answer: Study hours influence scores more (correlation =\", round(corr_study,2), \")\")\n",
        "else:\n",
        "    print(\"Answer: Attendance influences scores more (correlation =\", round(corr_attendance,2), \")\")\n",
        "\n"
      ],
      "metadata": {
        "colab": {
          "base_uri": "https://localhost:8080/"
        },
        "id": "FUWZz3KW8ee-",
        "outputId": "afd29072-9780-46e6-a041-8f499591142a"
      },
      "execution_count": null,
      "outputs": [
        {
          "output_type": "stream",
          "name": "stdout",
          "text": [
            "Answer: Study hours influence scores more (correlation = 0.81 )\n"
          ]
        }
      ]
    },
    {
      "cell_type": "code",
      "source": [
        "# 7. Which grade has the highest average attendance?\n",
        "\n",
        "avg_attendance_by_grade = df.groupby('grade')['attendance_percentage'].mean()\n",
        "print(avg_attendance_by_grade)\n"
      ],
      "metadata": {
        "colab": {
          "base_uri": "https://localhost:8080/"
        },
        "id": "1tCyIqolJ6Gb",
        "outputId": "aa680386-96a8-4831-9d43-4cf16bee5a1f"
      },
      "execution_count": null,
      "outputs": [
        {
          "output_type": "stream",
          "name": "stdout",
          "text": [
            "grade\n",
            "A    84.710114\n",
            "B    84.696178\n",
            "C    84.726340\n",
            "D    84.723243\n",
            "F    84.973662\n",
            "Name: attendance_percentage, dtype: float64\n"
          ]
        }
      ]
    },
    {
      "cell_type": "code",
      "source": [
        "# 8. How many students had less than 50% attendance?\n",
        "\n",
        "low_attendance = df[df['attendance_percentage'] < 50]\n",
        "print(f\"Number of students who got less than 50% attendance: {low_attendance.shape[0]}\")"
      ],
      "metadata": {
        "colab": {
          "base_uri": "https://localhost:8080/"
        },
        "id": "_OWFJy8bM92R",
        "outputId": "0d65df81-5940-4504-d016-d4f52e7435e4"
      },
      "execution_count": null,
      "outputs": [
        {
          "output_type": "stream",
          "name": "stdout",
          "text": [
            "Number of students who got less than 50% attendance: 0\n"
          ]
        }
      ]
    },
    {
      "cell_type": "code",
      "source": [
        "# 9. Which grade group studies the most hours per week on average?\n",
        "\n",
        "avg_study = df.groupby('grade')['weekly_self_study_hours'].mean()\n",
        "avg_study.plot(kind='bar', color='green', edgecolor='black', figsize=(6,4))\n",
        "plt.title(\"Average Weekly Study Hours by Grade\")\n",
        "plt.ylabel(\"Average Study Hours\")\n",
        "plt.show()"
      ],
      "metadata": {
        "colab": {
          "base_uri": "https://localhost:8080/",
          "height": 407
        },
        "id": "epPtDj-4Ohjn",
        "outputId": "c278de73-8969-4299-9bb7-4f4cce115221"
      },
      "execution_count": null,
      "outputs": [
        {
          "output_type": "display_data",
          "data": {
            "text/plain": [
              "<Figure size 600x400 with 1 Axes>"
            ],
            "image/png": "[encoded data removed]"
          },
          "metadata": {}
        }
      ]
    },
    {
      "cell_type": "code",
      "source": [
        "# 10. How many students have both attendance above 80% and a score above 90?\n",
        "\n",
        "high_perf_students = df[(df['attendance_percentage'] > 80) & (df['total_score'] > 90)].shape[0]\n",
        "print(\"Answer: Number of students with attendance >80% and score >90 =\", high_perf_students)"
      ],
      "metadata": {
        "colab": {
          "base_uri": "https://localhost:8080/"
        },
        "id": "cB8Sf0Z1O3Bo",
        "outputId": "59a5f264-9428-4541-b363-b912173a1cd2"
      },
      "execution_count": null,
      "outputs": [
        {
          "output_type": "stream",
          "name": "stdout",
          "text": [
            "Answer: Number of students with attendance >80% and score >90 = 309946\n"
          ]
        }
      ]
    },
    {
      "cell_type": "markdown",
      "source": [
        "**About Dataset**"
      ],
      "metadata": {
        "id": "icHWQX0f95QX"
      }
    },
    {
      "cell_type": "markdown",
      "source": [
        "The dataset containing 1 million records of students, including study hours, attendance, participation, scores, and grades, will analyze how study habits and behavior in the classroom are related to academic performance."
      ],
      "metadata": {
        "id": "tYLOjojx9_NX"
      }
    },
    {
      "cell_type": "markdown",
      "source": [
        "**Key Insights**\n",
        "1. The dataset contains one million students with complete records (no missing values).\n",
        "\n",
        "2. On the average, self-study is hardly more than 15 hours a week.\n",
        "\n",
        "3. All students have an attendance rate of 84.7%.\n",
        "\n",
        "4. Grade A is the most common grade, followed by B and C.\n",
        "\n",
        "5. More than 260,000 students scored 100.\n",
        "\n",
        "6. On average, students studying more than 20 hours a week score much better, ~98.6, than those studying less, ~79.9.\n",
        "\n",
        "7. Students with a class attendance ranging between 90-100% tend to score the highest in average.\n",
        "\n",
        "8. Most students are somewhat active, as indicated by an average class participation score of 6.\n",
        "\n",
        "9. The most striking thing is that students in Grade F continue to score the lowest while also maintaining an unusually high average attendance (~85%).\n",
        "\n",
        "10. While attendance agree with performance, study hours are more important."
      ],
      "metadata": {
        "id": "GMK8ZDGf-CTk"
      }
    },
    {
      "cell_type": "markdown",
      "source": [
        "**Conclusion**\n",
        "\n",
        "Data from the Education Insights study implies that study time, attendance, and classroom participation are all good predictors of student outcomes. Students who study more outside of class, in combination with consistent attendance and higher engagement in the classroom contexts, earn higher scores and grades. Moreover, student engagement has a demonstrable benefit to classroom outcomes. Overall, the data provides an unambiguous signal; balanced student academic habits are supportive of academic success."
      ],
      "metadata": {
        "id": "zAuwTYf6jlzf"
      }
    },
    {
      "cell_type": "markdown",
      "source": [
        "**Link to Video on Google Drive**\n",
        "\n",
        "\n",
        "https://drive.google.com/file/d/1aesdyrOwypZofkyqY36dt2mbRMNrOX2A/view?usp=sharing"
      ],
      "metadata": {
        "id": "RC_043s1ACV8"
      }
    },
    {
      "cell_type": "markdown",
      "source": [
        "**Github Link**\n",
        "\n"
      ],
      "metadata": {
        "id": "wO2rLGotCW-z"
      }
    },
    {
      "cell_type": "markdown",
      "source": [
        "**Dataset Link**\n",
        "\n",
        "https://www.kaggle.com/datasets/nabeelqureshitiii/student-performance-dataset"
      ],
      "metadata": {
        "id": "eLKragdeC6up"
      }
    },
    {
      "cell_type": "markdown",
      "source": [
        "**Html Link**"
      ],
      "metadata": {
        "id": "38pgQdbtDE8T"
      }
    }
  ]
}